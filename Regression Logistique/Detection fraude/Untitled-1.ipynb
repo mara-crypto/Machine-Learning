{
 "cells": [
  {
   "cell_type": "code",
   "execution_count": null,
   "metadata": {},
   "outputs": [],
   "source": [
    "import pandas as pd"
   ]
  },
  {
   "cell_type": "code",
   "execution_count": null,
   "metadata": {},
   "outputs": [],
   "source": [
    "dataset = pd.read_csv(\"card_transdata.csv\", sep=\",\", header=0)\n",
    "dataset"
   ]
  },
  {
   "cell_type": "code",
   "execution_count": null,
   "metadata": {},
   "outputs": [],
   "source": [
    "dataset.isnull().count()"
   ]
  },
  {
   "cell_type": "code",
   "execution_count": null,
   "metadata": {},
   "outputs": [],
   "source": [
    "dataset.isna().count()"
   ]
  },
  {
   "cell_type": "code",
   "execution_count": null,
   "metadata": {},
   "outputs": [],
   "source": [
    "# dataset = datasett.head(10000)\n"
   ]
  },
  {
   "cell_type": "code",
   "execution_count": null,
   "metadata": {},
   "outputs": [],
   "source": [
    "# import matplotlib.pyplot as plt\n",
    "# new_dataset = dataset.head(1000)\n",
    "# # Créez une table croisée\n",
    "# table = pd.crosstab(new_dataset.distance_from_home, dataset.fraud)\n",
    "\n",
    "# # Calculez les pourcentages par ligne\n",
    "# table_percent = table.div(table.sum(1).astype(float), axis=0)\n",
    "\n",
    "# # Créez le graphique à barres empilées\n",
    "# table_percent.plot(kind='bar', stacked=True, figsize=(10, 6))\n",
    "# plt.title(\"Pourcentage de Fraude en fonction de la Distance depuis le Domicile\")\n",
    "# plt.xlabel(\"Distance depuis le Domicile\")\n",
    "# plt.ylabel(\"Pourcentage de Fraude\")\n",
    "# plt.legend([\"Non Fraudulent\", \"Fraudulent\"], loc=\"upper right\")  # Ajoutez une légende\n",
    "# plt.xticks(rotation=90)  # Faites pivoter les étiquettes de l'axe des X pour une meilleure lisibilité\n",
    "# plt.show()\n",
    "\n",
    "# import seaborn as sns\n",
    "\n",
    "# correlation_matrix = dataset.corr()\n",
    "# sns.heatmap(correlation_matrix, annot=True, cmap='coolwarm')\n",
    "# plt.title('Correlation Matrix')\n",
    "# plt.show()\n",
    "\n"
   ]
  },
  {
   "cell_type": "code",
   "execution_count": null,
   "metadata": {},
   "outputs": [],
   "source": [
    "from sklearn.linear_model import LogisticRegression\n",
    "from sklearn.model_selection import train_test_split\n",
    "from sklearn.metrics import accuracy_score, classification_report, confusion_matrix"
   ]
  },
  {
   "cell_type": "code",
   "execution_count": null,
   "metadata": {},
   "outputs": [],
   "source": [
    "X = dataset.drop(\"fraud\", axis=1)\n",
    "y = dataset[\"fraud\"]"
   ]
  },
  {
   "cell_type": "code",
   "execution_count": null,
   "metadata": {},
   "outputs": [],
   "source": [
    "y"
   ]
  },
  {
   "cell_type": "code",
   "execution_count": null,
   "metadata": {},
   "outputs": [],
   "source": []
  },
  {
   "cell_type": "code",
   "execution_count": null,
   "metadata": {},
   "outputs": [],
   "source": [
    "# Diviser les données en ensembles d'entraînement et de test (par exemple, 80% pour l'entraînement, 20% pour les tests)\n",
    "X_train,X_test, y_train, y_test = train_test_split(X, y, test_size=0.2, random_state=5)\n",
    "\n",
    "# Créer le modèle de régression logistique\n",
    "model = LogisticRegression()\n",
    "\n",
    "# Entraîner le modèle sur l'ensemble d'entraînement\n",
    "model.fit(X_train, y_train)\n",
    "\n",
    "# Prédire la fraude sur l'ensemble de test\n",
    "y_pred = model.predict(X_test)\n",
    "\n",
    "accuracy = accuracy_score(y_test, y_pred)\n",
    "conf_matrix = confusion_matrix(y_test, y_pred)\n",
    "class_report = classification_report(y_test, y_pred)\n",
    "\n",
    "# Afficher les résultats\n",
    "print(\"Précision du modèle :\", accuracy)\n",
    "print(\"Matrice de confusion :\\n\", conf_matrix)\n",
    "print(\"Rapport de classification :\\n\", class_report)"
   ]
  }
 ],
 "metadata": {
  "kernelspec": {
   "display_name": "base",
   "language": "python",
   "name": "python3"
  },
  "language_info": {
   "codemirror_mode": {
    "name": "ipython",
    "version": 3
   },
   "file_extension": ".py",
   "mimetype": "text/x-python",
   "name": "python",
   "nbconvert_exporter": "python",
   "pygments_lexer": "ipython3",
   "version": "3.9.16"
  },
  "orig_nbformat": 4
 },
 "nbformat": 4,
 "nbformat_minor": 2
}
